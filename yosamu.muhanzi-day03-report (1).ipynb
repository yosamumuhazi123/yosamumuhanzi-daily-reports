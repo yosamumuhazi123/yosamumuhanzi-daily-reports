{
 "cells": [
  {
   "cell_type": "markdown",
   "id": "bb82303b",
   "metadata": {},
   "source": [
    "Strings and files"
   ]
  },
  {
   "cell_type": "code",
   "execution_count": 4,
   "id": "de0f5974",
   "metadata": {},
   "outputs": [],
   "source": [
    "string_1 = \"Will you at be meeting tonight\"\n",
    "string_2 = \"yes ,JOhn replied.\"\n",
    "\n"
   ]
  },
  {
   "cell_type": "code",
   "execution_count": 3,
   "id": "ba80a6f8",
   "metadata": {},
   "outputs": [
    {
     "name": "stdout",
     "output_type": "stream",
     "text": [
      "Will you at be meeting tonight\n"
     ]
    }
   ],
   "source": [
    "print(string_1)"
   ]
  },
  {
   "cell_type": "code",
   "execution_count": 5,
   "id": "1e64df80",
   "metadata": {},
   "outputs": [
    {
     "name": "stdout",
     "output_type": "stream",
     "text": [
      "yes ,JOhn replied.\n"
     ]
    }
   ],
   "source": [
    "print(string_2)"
   ]
  },
  {
   "cell_type": "markdown",
   "id": "216d7f79",
   "metadata": {},
   "source": [
    "Indexing"
   ]
  },
  {
   "cell_type": "code",
   "execution_count": 6,
   "id": "61d0d456",
   "metadata": {},
   "outputs": [
    {
     "data": {
      "text/plain": [
       "'W'"
      ]
     },
     "execution_count": 6,
     "metadata": {},
     "output_type": "execute_result"
    }
   ],
   "source": [
    "string_1[0]"
   ]
  },
  {
   "cell_type": "code",
   "execution_count": 7,
   "id": "5251529f",
   "metadata": {},
   "outputs": [
    {
     "data": {
      "text/plain": [
       "'g'"
      ]
     },
     "execution_count": 7,
     "metadata": {},
     "output_type": "execute_result"
    }
   ],
   "source": [
    "string_1[-3]"
   ]
  },
  {
   "cell_type": "code",
   "execution_count": 8,
   "id": "46fc95a5",
   "metadata": {},
   "outputs": [
    {
     "data": {
      "text/plain": [
       "'y'"
      ]
     },
     "execution_count": 8,
     "metadata": {},
     "output_type": "execute_result"
    }
   ],
   "source": [
    "string_1[5]"
   ]
  },
  {
   "cell_type": "code",
   "execution_count": 9,
   "id": "8441102e",
   "metadata": {},
   "outputs": [
    {
     "name": "stdout",
     "output_type": "stream",
     "text": [
      "Will you at be meeting tonight\n",
      "The second character of my string is g\n"
     ]
    }
   ],
   "source": [
    "print(string_1)\n",
    "print(\"The second character of my string is\",string_1[-3] )"
   ]
  },
  {
   "cell_type": "markdown",
   "id": "25959d03",
   "metadata": {},
   "source": [
    "Slicing\n",
    "      \n",
    "      string[start:stop:step]"
   ]
  },
  {
   "cell_type": "code",
   "execution_count": 16,
   "id": "8f896df0",
   "metadata": {},
   "outputs": [
    {
     "name": "stdout",
     "output_type": "stream",
     "text": [
      "Will you at be meeting tonight\n"
     ]
    },
    {
     "data": {
      "text/plain": [
       "'ill you at b'"
      ]
     },
     "execution_count": 16,
     "metadata": {},
     "output_type": "execute_result"
    }
   ],
   "source": [
    "print(string_1)\n",
    "string_1[2:8:2]\n",
    "string_1[1:13:1]"
   ]
  },
  {
   "cell_type": "markdown",
   "id": "da985eaf",
   "metadata": {},
   "source": [
    "Concatenation"
   ]
  },
  {
   "cell_type": "code",
   "execution_count": 2,
   "id": "366aed80",
   "metadata": {},
   "outputs": [
    {
     "name": "stdout",
     "output_type": "stream",
     "text": [
      "HelloWorld\n"
     ]
    }
   ],
   "source": [
    "my_var_1 = \"Hello\"\n",
    "\n",
    "my_var_2 = \"World\"\n",
    "\n",
    "concat = my_var_1 + my_var_2\n",
    "\n",
    "print(concat)"
   ]
  },
  {
   "cell_type": "code",
   "execution_count": 18,
   "id": "2cbca249",
   "metadata": {},
   "outputs": [
    {
     "name": "stdout",
     "output_type": "stream",
     "text": [
      "WorldWorld\n"
     ]
    }
   ],
   "source": [
    "print(2*my_var_2)"
   ]
  },
  {
   "cell_type": "code",
   "execution_count": 25,
   "id": "4d4416bb",
   "metadata": {},
   "outputs": [],
   "source": [
    "?my_var_2.capitalize"
   ]
  },
  {
   "cell_type": "code",
   "execution_count": 26,
   "id": "b75eac69",
   "metadata": {},
   "outputs": [
    {
     "data": {
      "text/plain": [
       "['__add__',\n",
       " '__class__',\n",
       " '__contains__',\n",
       " '__delattr__',\n",
       " '__dir__',\n",
       " '__doc__',\n",
       " '__eq__',\n",
       " '__format__',\n",
       " '__ge__',\n",
       " '__getattribute__',\n",
       " '__getitem__',\n",
       " '__getnewargs__',\n",
       " '__gt__',\n",
       " '__hash__',\n",
       " '__init__',\n",
       " '__init_subclass__',\n",
       " '__iter__',\n",
       " '__le__',\n",
       " '__len__',\n",
       " '__lt__',\n",
       " '__mod__',\n",
       " '__mul__',\n",
       " '__ne__',\n",
       " '__new__',\n",
       " '__reduce__',\n",
       " '__reduce_ex__',\n",
       " '__repr__',\n",
       " '__rmod__',\n",
       " '__rmul__',\n",
       " '__setattr__',\n",
       " '__sizeof__',\n",
       " '__str__',\n",
       " '__subclasshook__',\n",
       " 'capitalize',\n",
       " 'casefold',\n",
       " 'center',\n",
       " 'count',\n",
       " 'encode',\n",
       " 'endswith',\n",
       " 'expandtabs',\n",
       " 'find',\n",
       " 'format',\n",
       " 'format_map',\n",
       " 'index',\n",
       " 'isalnum',\n",
       " 'isalpha',\n",
       " 'isascii',\n",
       " 'isdecimal',\n",
       " 'isdigit',\n",
       " 'isidentifier',\n",
       " 'islower',\n",
       " 'isnumeric',\n",
       " 'isprintable',\n",
       " 'isspace',\n",
       " 'istitle',\n",
       " 'isupper',\n",
       " 'join',\n",
       " 'ljust',\n",
       " 'lower',\n",
       " 'lstrip',\n",
       " 'maketrans',\n",
       " 'partition',\n",
       " 'removeprefix',\n",
       " 'removesuffix',\n",
       " 'replace',\n",
       " 'rfind',\n",
       " 'rindex',\n",
       " 'rjust',\n",
       " 'rpartition',\n",
       " 'rsplit',\n",
       " 'rstrip',\n",
       " 'split',\n",
       " 'splitlines',\n",
       " 'startswith',\n",
       " 'strip',\n",
       " 'swapcase',\n",
       " 'title',\n",
       " 'translate',\n",
       " 'upper',\n",
       " 'zfill']"
      ]
     },
     "execution_count": 26,
     "metadata": {},
     "output_type": "execute_result"
    }
   ],
   "source": [
    "dir(my_var_1 )"
   ]
  },
  {
   "cell_type": "code",
   "execution_count": 30,
   "id": "272b1ef5",
   "metadata": {},
   "outputs": [
    {
     "name": "stdout",
     "output_type": "stream",
     "text": [
      "HELLO\n"
     ]
    }
   ],
   "source": [
    "print(my_var_1.upper())"
   ]
  },
  {
   "cell_type": "code",
   "execution_count": 34,
   "id": "a44d809d",
   "metadata": {},
   "outputs": [
    {
     "name": "stdout",
     "output_type": "stream",
     "text": [
      "HelloWorld\n"
     ]
    }
   ],
   "source": [
    "print(my_var_1.__add__(my_var_2))"
   ]
  },
  {
   "cell_type": "code",
   "execution_count": 3,
   "id": "f306015a",
   "metadata": {},
   "outputs": [
    {
     "name": "stdout",
     "output_type": "stream",
     "text": [
      "Hello\n"
     ]
    }
   ],
   "source": [
    "print(my_var_1.title())"
   ]
  },
  {
   "cell_type": "code",
   "execution_count": 5,
   "id": "72278312",
   "metadata": {},
   "outputs": [
    {
     "name": "stdout",
     "output_type": "stream",
     "text": [
      "True\n"
     ]
    }
   ],
   "source": [
    "K = \"yosamu123\"\n",
    "c = K.isalnum()\n",
    "print(c)"
   ]
  },
  {
   "cell_type": "code",
   "execution_count": 47,
   "id": "1a02ce3d",
   "metadata": {},
   "outputs": [
    {
     "name": "stdout",
     "output_type": "stream",
     "text": [
      "fghi\n",
      "aims class\n",
      "Rwanda 2025\n",
      "this is really cool\n"
     ]
    }
   ],
   "source": [
    "file = open('testfile.txt', 'w')\n",
    "file.write(\"\"\"fghi\n",
    "aims class\n",
    "Rwanda 2025\n",
    "this is really cool\"\"\")\n",
    "file.close()\n",
    "           \n",
    "file = open('testfile.txt', 'r')\n",
    "print(file.read())\n",
    "file.close()\n",
    "           "
   ]
  },
  {
   "cell_type": "code",
   "execution_count": null,
   "id": "7621c960",
   "metadata": {},
   "outputs": [],
   "source": [
    "to_write_to_file = 0pen('testfile.txt','r')"
   ]
  },
  {
   "cell_type": "code",
   "execution_count": null,
   "id": "14a6694e",
   "metadata": {},
   "outputs": [],
   "source": [
    "to_write = open('outfile.txt','w')\n",
    "to_write.write(\"My name is MUHANZI\")\n",
    "to_write.close()"
   ]
  },
  {
   "cell_type": "code",
   "execution_count": 1,
   "id": "b236671f",
   "metadata": {},
   "outputs": [
    {
     "data": {
      "text/plain": [
       "'My name is MUHANZI'"
      ]
     },
     "execution_count": 1,
     "metadata": {},
     "output_type": "execute_result"
    }
   ],
   "source": [
    "to_write = open('outfile.txt','r')\n",
    "to_write.readline()"
   ]
  }
 ],
 "metadata": {
  "kernelspec": {
   "display_name": "Python 3",
   "language": "python",
   "name": "python3"
  },
  "language_info": {
   "codemirror_mode": {
    "name": "ipython",
    "version": 3
   },
   "file_extension": ".py",
   "mimetype": "text/x-python",
   "name": "python",
   "nbconvert_exporter": "python",
   "pygments_lexer": "ipython3",
   "version": "3.9.11"
  }
 },
 "nbformat": 4,
 "nbformat_minor": 5
}
