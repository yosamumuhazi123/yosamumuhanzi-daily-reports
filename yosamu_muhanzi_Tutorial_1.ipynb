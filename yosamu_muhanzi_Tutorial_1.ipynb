{
 "cells": [
  {
   "cell_type": "markdown",
   "id": "53a08a21",
   "metadata": {
    "id": "426486dd"
   },
   "source": [
    "\n",
    "\n",
    "# Practical_1: Variables and Assignments"
   ]
  },
  {
   "cell_type": "markdown",
   "id": "485e52f9",
   "metadata": {
    "id": "9fb19f0d"
   },
   "source": [
    "----\n",
    "\n",
    "### Exercise 1:\n",
    "Declare a variable `x` and assign it the value `10`.\n",
    "\n",
    "```python\n",
    "# Exercise 1\n",
    "```"
   ]
  },
  {
   "cell_type": "code",
   "execution_count": 1,
   "id": "0a103a2e",
   "metadata": {
    "id": "9fb19f0d"
   },
   "outputs": [
    {
     "name": "stdout",
     "output_type": "stream",
     "text": [
      "10\n"
     ]
    }
   ],
   "source": [
    "x = 10\n",
    "print(x)"
   ]
  },
  {
   "cell_type": "markdown",
   "id": "3d11ece2",
   "metadata": {
    "id": "9fb19f0d"
   },
   "source": [
    "### Exercise 2:\n",
    "Assign the value `True` to a variable called `is_valid`.\n",
    "\n",
    "```python\n",
    "# Exercise 2\n",
    "```\n"
   ]
  },
  {
   "cell_type": "code",
   "execution_count": 5,
   "id": "a78250d9",
   "metadata": {},
   "outputs": [
    {
     "name": "stdout",
     "output_type": "stream",
     "text": [
      "True\n",
      "<class 'bool'>\n"
     ]
    }
   ],
   "source": [
    "is_valid = True\n",
    "print(is_valid)\n",
    "print(type(is_valid))\n"
   ]
  },
  {
   "cell_type": "markdown",
   "id": "7ccd4946",
   "metadata": {
    "id": "9fb19f0d"
   },
   "source": [
    "\n",
    " Exercise 3:\n",
    "Create a string variable `name` with the value \"Python Programming\".\n",
    "\n",
    "```python\n",
    "# Exercise 3\n",
    "```"
   ]
  },
  {
   "cell_type": "code",
   "execution_count": 7,
   "id": "79a0899e",
   "metadata": {
    "id": "9fb19f0d"
   },
   "outputs": [
    {
     "name": "stdout",
     "output_type": "stream",
     "text": [
      "<class 'str'>\n",
      "Python Programming\n"
     ]
    }
   ],
   "source": [
    "name = \"Python Programming\"\n",
    "print(type(name))\n",
    "print(name)"
   ]
  },
  {
   "cell_type": "markdown",
   "id": "2de90bc1",
   "metadata": {
    "id": "9fb19f0d"
   },
   "source": [
    "\n",
    " Exercise 4:\n",
    "Assign the result of `5 + 3` to a variable `sum_result`.\n",
    "\n",
    "```python\n",
    "# Exercise 4\n",
    "```"
   ]
  },
  {
   "cell_type": "code",
   "execution_count": 8,
   "id": "33b3e267",
   "metadata": {
    "id": "9fb19f0d"
   },
   "outputs": [
    {
     "name": "stdout",
     "output_type": "stream",
     "text": [
      "8\n"
     ]
    }
   ],
   "source": [
    "sum_result = 5 + 3\n",
    "print(sum_result)\n"
   ]
  },
  {
   "cell_type": "markdown",
   "id": "9731afe5",
   "metadata": {
    "id": "9fb19f0d"
   },
   "source": [
    "\n",
    " Exercise 5:\n",
    "Assign multiple variables in one line: `a = 5`, `b = 10`, `c = 15`.\n",
    "\n",
    "```python\n",
    "# Exercise 5\n",
    "```"
   ]
  },
  {
   "cell_type": "code",
   "execution_count": 9,
   "id": "62f20604",
   "metadata": {
    "id": "9fb19f0d"
   },
   "outputs": [
    {
     "name": "stdout",
     "output_type": "stream",
     "text": [
      "5 10 15\n"
     ]
    }
   ],
   "source": [
    "a, b, c = 5, 10, 15\n",
    "print(a, b, c )"
   ]
  },
  {
   "cell_type": "markdown",
   "id": "18366d03",
   "metadata": {
    "id": "9fb19f0d"
   },
   "source": [
    "\n",
    " Exercise 6:\n",
    "Assign the value of one variable `x` to another variable `y`.\n",
    "\n",
    "```python\n",
    "# Exercise 6\n",
    "```"
   ]
  },
  {
   "cell_type": "code",
   "execution_count": 10,
   "id": "9f63dc22",
   "metadata": {
    "id": "9fb19f0d"
   },
   "outputs": [
    {
     "name": "stdout",
     "output_type": "stream",
     "text": [
      "42\n"
     ]
    }
   ],
   "source": [
    "x = 42\n",
    "y = x\n",
    "print(y)"
   ]
  },
  {
   "cell_type": "markdown",
   "id": "962747ec",
   "metadata": {
    "id": "9fb19f0d"
   },
   "source": [
    "\n",
    "\n",
    "Exercise 7:\n",
    "Assign a floating-point number `9.8` to a variable `gravity`.\n",
    "\n",
    "```python\n",
    "# Exercise 7\n",
    "```"
   ]
  },
  {
   "cell_type": "code",
   "execution_count": 11,
   "id": "22288688",
   "metadata": {
    "id": "9fb19f0d"
   },
   "outputs": [
    {
     "data": {
      "text/plain": [
       "9.8"
      ]
     },
     "execution_count": 11,
     "metadata": {},
     "output_type": "execute_result"
    }
   ],
   "source": [
    "gravity = 9.8\n",
    "gravity"
   ]
  },
  {
   "cell_type": "markdown",
   "id": "6e2a6575",
   "metadata": {
    "id": "9fb19f0d"
   },
   "source": [
    "\n",
    "\n",
    " Exercise 8:\n",
    "Create a variable `country` and assign it the string value of your favorite country.\n",
    "\n",
    "```python\n",
    "# Exercise 8\n",
    "```"
   ]
  },
  {
   "cell_type": "code",
   "execution_count": 13,
   "id": "000710bc",
   "metadata": {
    "id": "9fb19f0d"
   },
   "outputs": [
    {
     "name": "stdout",
     "output_type": "stream",
     "text": [
      "<class 'str'>\n",
      "Rwanda\n"
     ]
    }
   ],
   "source": [
    "country = \"Rwanda\"\n",
    "print(type(country))\n",
    "print(country)"
   ]
  },
  {
   "cell_type": "markdown",
   "id": "25444093",
   "metadata": {
    "id": "9fb19f0d"
   },
   "source": [
    "---\n",
    "\n",
    "Exercise 9:\n",
    "Change the value of variable `age` from `25` to `26` in two separate steps.\n",
    "\n",
    "```python\n",
    "# Exercise 9\n",
    "```"
   ]
  },
  {
   "cell_type": "code",
   "execution_count": 14,
   "id": "0e557bf3",
   "metadata": {
    "id": "9fb19f0d"
   },
   "outputs": [
    {
     "name": "stdout",
     "output_type": "stream",
     "text": [
      "26\n"
     ]
    }
   ],
   "source": [
    "\n",
    "age = 25\n",
    "age = 26\n",
    "print(age)"
   ]
  },
  {
   "cell_type": "markdown",
   "id": "6dc570c3",
   "metadata": {
    "id": "9fb19f0d"
   },
   "source": [
    "---\n",
    "\n",
    " Exercise 10:\n",
    "Use one variable to store the result of subtracting two numbers `20 - 7`.\n",
    "\n",
    "```python\n",
    "# Exercise 10\n",
    "```"
   ]
  },
  {
   "cell_type": "code",
   "execution_count": 15,
   "id": "295f0dd1",
   "metadata": {
    "id": "9fb19f0d"
   },
   "outputs": [
    {
     "name": "stdout",
     "output_type": "stream",
     "text": [
      "13\n"
     ]
    }
   ],
   "source": [
    "result = 20 - 7\n",
    "print(result)"
   ]
  },
  {
   "cell_type": "markdown",
   "id": "b31e5d0a",
   "metadata": {
    "id": "9fb19f0d"
   },
   "source": [
    " Exercise 11:\n",
    "Assign an integer value and a floating-point value to two different variables.\n",
    "\n",
    "```python\n",
    "# Exercise 11\n",
    "```"
   ]
  },
  {
   "cell_type": "markdown",
   "id": "8fe2314e",
   "metadata": {
    "id": "9fb19f0d"
   },
   "source": [
    "integer_value = 50\n",
    "float_value = 12.75\n"
   ]
  },
  {
   "cell_type": "markdown",
   "id": "a9f0149b",
   "metadata": {
    "id": "9fb19f0d"
   },
   "source": [
    "\n",
    "\n",
    "Exercise 12:\n",
    "Assign a boolean value `False` to a variable `is_completed`.\n",
    "\n",
    "```python\n",
    "# Exercise 12\n",
    "```"
   ]
  },
  {
   "cell_type": "code",
   "execution_count": 17,
   "id": "0e6cabe5",
   "metadata": {
    "id": "9fb19f0d"
   },
   "outputs": [
    {
     "name": "stdout",
     "output_type": "stream",
     "text": [
      "False\n",
      "<class 'bool'>\n"
     ]
    }
   ],
   "source": [
    "is_completed = False\n",
    "print(is_completed )\n",
    "print(type(is_completed))"
   ]
  },
  {
   "cell_type": "markdown",
   "id": "054f9a97",
   "metadata": {
    "id": "9fb19f0d"
   },
   "source": [
    "---\n",
    "\n",
    "Exercise 13:\n",
    "Swap the values of two variables `x` and `y`.\n",
    "\n",
    "```python\n",
    "# Exercise 13\n",
    "```"
   ]
  },
  {
   "cell_type": "code",
   "execution_count": 20,
   "id": "d3638b1d",
   "metadata": {
    "id": "9fb19f0d"
   },
   "outputs": [
    {
     "name": "stdout",
     "output_type": "stream",
     "text": [
      "x = 5\n",
      "y = 10\n",
      "before swap: 10 5\n",
      "after swap: 10 5\n"
     ]
    }
   ],
   "source": [
    "\n",
    "x = 5\n",
    "y = 10\n",
    "print(\"x =\", x)\n",
    "print(\"y =\", y)\n",
    "x, y = y, x\n",
    "print(\"before swap:\",x ,y)\n",
    "print(\"after swap:\",x ,y)"
   ]
  },
  {
   "cell_type": "markdown",
   "id": "a78fad44",
   "metadata": {
    "id": "9fb19f0d"
   },
   "source": [
    "---\n",
    "\n",
    "### Exercise 14:\n",
    "Assign a complex number `3 + 4j` to a variable `complex_num`.\n",
    "\n",
    "```python\n",
    "# Exercise 14\n",
    "```"
   ]
  },
  {
   "cell_type": "code",
   "execution_count": 21,
   "id": "20df4ef2",
   "metadata": {
    "id": "9fb19f0d"
   },
   "outputs": [
    {
     "name": "stdout",
     "output_type": "stream",
     "text": [
      "Real part: 3.0\n",
      "Imaginary part: 4.0\n"
     ]
    }
   ],
   "source": [
    "complex_num = 3 + 4j\n",
    "complex_num = 3 + 4j\n",
    "print(\"Real part:\", complex_num.real)\n",
    "print(\"Imaginary part:\", complex_num.imag)\n"
   ]
  },
  {
   "cell_type": "markdown",
   "id": "9431ef79",
   "metadata": {
    "id": "9fb19f0d"
   },
   "source": [
    "---\n",
    "\n",
    "  Exercise 15:\n",
    "Reassign a variable from an integer to a string.\n",
    "\n",
    "```python\n",
    " Exercise 15\n",
    "```"
   ]
  },
  {
   "cell_type": "markdown",
   "id": "54689416",
   "metadata": {
    "id": "9fb19f0d"
   },
   "source": [
    "value = 100\n",
    "print(\"Before:\", value, type(value))\n",
    "value = \"one hundred\"\n",
    "print(\"After:\", value, type(value))\n",
    "\n"
   ]
  },
  {
   "cell_type": "markdown",
   "id": "13a861bb",
   "metadata": {
    "id": "9fb19f0d"
   },
   "source": [
    "---\n",
    "\n",
    "### Exercise 16:\n",
    "Create two variables `first_name` and `last_name`, and assign them your first and last names.\n",
    "\n",
    "```python\n",
    "# Exercise 16\n",
    "```"
   ]
  },
  {
   "cell_type": "code",
   "execution_count": 25,
   "id": "77148997",
   "metadata": {
    "id": "9fb19f0d"
   },
   "outputs": [
    {
     "name": "stdout",
     "output_type": "stream",
     "text": [
      "Names: Yosamu MUHANZI\n"
     ]
    }
   ],
   "source": [
    "first_name = \"Yosamu\"\n",
    "last_name = \"MUHANZI\"\n",
    "print(\"Names:\",first_name,last_name)\n"
   ]
  },
  {
   "cell_type": "markdown",
   "id": "5cb12fbb",
   "metadata": {
    "id": "9fb19f0d"
   },
   "source": [
    "---\n",
    "\n",
    "### Exercise 17:\n",
    "Create a variable `temperature` and assign it the value of `35.5`.\n",
    "\n",
    "```python\n",
    "# Exercise 17\n",
    "```"
   ]
  },
  {
   "cell_type": "code",
   "execution_count": 26,
   "id": "2d370412",
   "metadata": {
    "id": "9fb19f0d"
   },
   "outputs": [
    {
     "name": "stdout",
     "output_type": "stream",
     "text": [
      "35\n"
     ]
    }
   ],
   "source": [
    "temperature = 35.5\n",
    "c=int(temperature)\n",
    "print(c)"
   ]
  },
  {
   "cell_type": "markdown",
   "id": "f3c359fe",
   "metadata": {
    "id": "9fb19f0d"
   },
   "source": [
    "---\n",
    "\n",
    "### Exercise 18:\n",
    "Assign the result of the multiplication of two numbers `8 * 6` to a variable `product`.\n",
    "\n",
    "```python\n",
    "# Exercise 18\n",
    "```"
   ]
  },
  {
   "cell_type": "code",
   "execution_count": 27,
   "id": "a0c3de30",
   "metadata": {
    "id": "9fb19f0d"
   },
   "outputs": [
    {
     "name": "stdout",
     "output_type": "stream",
     "text": [
      "48\n"
     ]
    }
   ],
   "source": [
    "product = 8 * 6\n",
    "print(product)"
   ]
  },
  {
   "cell_type": "markdown",
   "id": "3ade765b",
   "metadata": {
    "id": "9fb19f0d"
   },
   "source": [
    "### Exercise 19:\n",
    "Assign a sentence of your choice to a variable `sentence`.\n",
    "\n",
    "```python\n",
    "# Exercise 19\n",
    "```"
   ]
  },
  {
   "cell_type": "code",
   "execution_count": 28,
   "id": "10ef424d",
   "metadata": {
    "id": "9fb19f0d"
   },
   "outputs": [
    {
     "name": "stdout",
     "output_type": "stream",
     "text": [
      "Learning Python is fun and exciting!\n"
     ]
    }
   ],
   "source": [
    "sentence = \"Learning Python is fun and exciting!\"\n",
    "print(sentence)"
   ]
  },
  {
   "cell_type": "markdown",
   "id": "58db3bff",
   "metadata": {
    "id": "9fb19f0d"
   },
   "source": [
    "### Exercise 20:\n",
    "Use an assignment to convert a string `'50'` into an integer variable `int_value`.\n",
    "\n",
    "```python\n",
    "# Exercise 20\n",
    "```"
   ]
  },
  {
   "cell_type": "code",
   "execution_count": 38,
   "id": "31d043d6",
   "metadata": {
    "id": "9fb19f0d"
   },
   "outputs": [
    {
     "name": "stdout",
     "output_type": "stream",
     "text": [
      "Number: 50\n",
      "<class 'int'>\n"
     ]
    }
   ],
   "source": [
    "string_value = \"50\"\n",
    "int_value = int(string_value)\n",
    "print(\"Number:\",int_value)\n",
    "print(type(int_value))"
   ]
  },
  {
   "cell_type": "markdown",
   "id": "72e6cf9b",
   "metadata": {
    "id": "9fb19f0d"
   },
   "source": [
    "---\n",
    "\n",
    "### Exercise 21:\n",
    "Assign the result of dividing `144` by `12` to a variable `quotient`.\n",
    "\n",
    "```python\n",
    "# Exercise 21\n",
    "```"
   ]
  },
  {
   "cell_type": "code",
   "execution_count": 39,
   "id": "08568b04",
   "metadata": {
    "id": "9fb19f0d"
   },
   "outputs": [
    {
     "name": "stdout",
     "output_type": "stream",
     "text": [
      "12.0\n"
     ]
    }
   ],
   "source": [
    "quotient = 144 / 12\n",
    "print(quotient)\n"
   ]
  },
  {
   "cell_type": "markdown",
   "id": "c844f714",
   "metadata": {
    "id": "9fb19f0d"
   },
   "source": [
    "---\n",
    "\n",
    "### Exercise 22:\n",
    "Assign the remainder of `47 divided by 5` to a variable `remainder`.\n",
    "\n",
    "```python\n",
    "# Exercise 22\n",
    "`"
   ]
  },
  {
   "cell_type": "code",
   "execution_count": 40,
   "id": "23954cc0",
   "metadata": {
    "id": "9fb19f0d"
   },
   "outputs": [
    {
     "name": "stdout",
     "output_type": "stream",
     "text": [
      "2\n"
     ]
    }
   ],
   "source": [
    "remainder = 47 % 5\n",
    "print(remainder)\n"
   ]
  },
  {
   "cell_type": "markdown",
   "id": "333d3a62",
   "metadata": {
    "id": "9fb19f0d"
   },
   "source": [
    "---\n",
    "\n",
    "### Exercise 23:\n",
    "Create a variable `is_student` and assign it the value `True`.\n",
    "\n",
    "```python\n",
    "# Exercise 23\n",
    "```"
   ]
  },
  {
   "cell_type": "code",
   "execution_count": 41,
   "id": "fbf96fe0",
   "metadata": {
    "id": "9fb19f0d"
   },
   "outputs": [
    {
     "name": "stdout",
     "output_type": "stream",
     "text": [
      "True\n",
      "<class 'bool'>\n"
     ]
    }
   ],
   "source": [
    "is_student = True\n",
    "print(is_student)\n",
    "print(type(is_student))"
   ]
  },
  {
   "cell_type": "markdown",
   "id": "a0d9f331",
   "metadata": {
    "id": "9fb19f0d"
   },
   "source": [
    "---\n",
    "\n",
    "### Exercise 24:\n",
    "Use a variable to store the result of a modulo operation: `45 % 4`.\n",
    "\n",
    "```python\n",
    "# Exercise 24\n",
    "```"
   ]
  },
  {
   "cell_type": "code",
   "execution_count": 42,
   "id": "099c070d",
   "metadata": {
    "id": "9fb19f0d"
   },
   "outputs": [
    {
     "name": "stdout",
     "output_type": "stream",
     "text": [
      "1\n",
      "<class 'int'>\n"
     ]
    }
   ],
   "source": [
    "mod_result = 45 % 4\n",
    "print(mod_result)\n",
    "print(type(mod_result))"
   ]
  },
  {
   "cell_type": "markdown",
   "id": "e909d4b5",
   "metadata": {
    "id": "9fb19f0d"
   },
   "source": [
    "---\n",
    "\n",
    "### Exercise 25:\n",
    "Create a variable `pi` and assign it the value `3.14159`.\n",
    "\n",
    "```python\n",
    "# Exercise 25\n",
    "```"
   ]
  },
  {
   "cell_type": "code",
   "execution_count": 43,
   "id": "b2801533",
   "metadata": {
    "id": "9fb19f0d"
   },
   "outputs": [
    {
     "name": "stdout",
     "output_type": "stream",
     "text": [
      "Value of pi: 3.14159\n"
     ]
    }
   ],
   "source": [
    "\n",
    "pi = 3.14159\n",
    "print(\"Value of pi:\", pi)\n",
    "\n"
   ]
  },
  {
   "cell_type": "markdown",
   "id": "6285ac0f",
   "metadata": {
    "id": "9fb19f0d"
   },
   "source": [
    "---\n",
    "\n",
    "### Exercise 26:\n",
    "Create two variables `length` and `width`, assign them values, and calculate the area of a rectangle.\n",
    "\n",
    "```python\n",
    "# Exercise 26\n",
    "```"
   ]
  },
  {
   "cell_type": "code",
   "execution_count": 44,
   "id": "116856dd",
   "metadata": {
    "id": "9fb19f0d"
   },
   "outputs": [
    {
     "name": "stdout",
     "output_type": "stream",
     "text": [
      "Length: 10\n",
      "Width: 5\n",
      "Area of rectangle: 50\n"
     ]
    }
   ],
   "source": [
    "\n",
    "length = 10\n",
    "width = 5\n",
    "area = length * width\n",
    "print(\"Length:\", length)\n",
    "print(\"Width:\", width)\n",
    "print(\"Area of rectangle:\", area)\n"
   ]
  },
  {
   "cell_type": "markdown",
   "id": "40f66367",
   "metadata": {
    "id": "9fb19f0d"
   },
   "source": [
    "---\n",
    "\n",
    "### Exercise 27:\n",
    "Assign a negative number to a variable `negative_value`.\n",
    "\n",
    "```python\n",
    "# Exercise 27\n",
    "```"
   ]
  },
  {
   "cell_type": "code",
   "execution_count": 45,
   "id": "3df9b943",
   "metadata": {
    "id": "9fb19f0d"
   },
   "outputs": [
    {
     "name": "stdout",
     "output_type": "stream",
     "text": [
      "Number: -25\n"
     ]
    }
   ],
   "source": [
    "negative_value = -25\n",
    "print(\"Number:\",negative_value)"
   ]
  },
  {
   "cell_type": "markdown",
   "id": "a8543a9b",
   "metadata": {
    "id": "9fb19f0d"
   },
   "source": [
    "---\n",
    "\n",
    "### Exercise 28:\n",
    "Assign a string containing a special character (e.g., \"Hello, World!\") to a variable `greeting`.\n",
    "\n",
    "```python\n",
    "# Exercise 28\n",
    "```"
   ]
  },
  {
   "cell_type": "code",
   "execution_count": 46,
   "id": "8a3d3d71",
   "metadata": {
    "id": "9fb19f0d"
   },
   "outputs": [
    {
     "name": "stdout",
     "output_type": "stream",
     "text": [
      "Hello, World!\n",
      "<class 'str'>\n"
     ]
    }
   ],
   "source": [
    "greeting = \"Hello, World!\"\n",
    "print(greeting)\n",
    "print(type(greeting))"
   ]
  },
  {
   "cell_type": "markdown",
   "id": "e8c06363",
   "metadata": {
    "id": "9fb19f0d"
   },
   "source": [
    "---\n",
    "\n",
    "### Exercise 29:\n",
    "Create a variable `population` and assign it a large integer value (in billions).\n",
    "\n",
    "```python\n",
    "# Exercise 29\n",
    "```"
   ]
  },
  {
   "cell_type": "code",
   "execution_count": 50,
   "id": "b8753b02",
   "metadata": {
    "id": "9fb19f0d"
   },
   "outputs": [
    {
     "name": "stdout",
     "output_type": "stream",
     "text": [
      "7800000000\n"
     ]
    }
   ],
   "source": [
    "population = 7_800_000_000\n",
    "print(population)"
   ]
  },
  {
   "cell_type": "markdown",
   "id": "c1173cbd",
   "metadata": {
    "id": "9fb19f0d"
   },
   "source": [
    "---\n",
    "\n",
    "### Exercise 30:\n",
    "Use a variable to store the result of raising `2` to the power of `8`.\n",
    "\n",
    "```python\n",
    "# Exercise 30\n",
    "```"
   ]
  },
  {
   "cell_type": "code",
   "execution_count": 51,
   "id": "1fdb7820",
   "metadata": {
    "id": "9fb19f0d"
   },
   "outputs": [
    {
     "name": "stdout",
     "output_type": "stream",
     "text": [
      "256\n"
     ]
    }
   ],
   "source": [
    "power_result = 2 ** 8\n",
    "print(power_result)"
   ]
  },
  {
   "cell_type": "markdown",
   "id": "6ddd0c01",
   "metadata": {
    "id": "9fb19f0d"
   },
   "source": [
    "---\n",
    "\n",
    "### Exercise 31:\n",
    "Assign a list of your favorite fruits to a variable `fruits`.\n",
    "\n",
    "```python\n",
    "# Exercise 31\n",
    "```"
   ]
  },
  {
   "cell_type": "code",
   "execution_count": 59,
   "id": "c07ddba0",
   "metadata": {
    "id": "9fb19f0d"
   },
   "outputs": [
    {
     "name": "stdout",
     "output_type": "stream",
     "text": [
      "['Apple', 'Banana', 'Mango', 'Strawberry']\n"
     ]
    }
   ],
   "source": [
    "fruits = [\"Apple\", \"Banana\", \"Mango\" ,\"Strawberry\"]\n",
    "print(fruits)"
   ]
  },
  {
   "cell_type": "markdown",
   "id": "e118fc5e",
   "metadata": {
    "id": "9fb19f0d"
   },
   "source": [
    "---\n",
    "\n",
    "### Exercise 32:\n",
    "Assign a tuple of three numbers to a variable `coordinates`.\n",
    "\n",
    "```python\n",
    "# Exercise 32\n",
    "`"
   ]
  },
  {
   "cell_type": "code",
   "execution_count": 53,
   "id": "8f2548eb",
   "metadata": {
    "id": "9fb19f0d"
   },
   "outputs": [
    {
     "name": "stdout",
     "output_type": "stream",
     "text": [
      "(10, 20, 30)\n"
     ]
    }
   ],
   "source": [
    "M = (10, 20, 30)\n",
    "print(M)"
   ]
  },
  {
   "cell_type": "markdown",
   "id": "6171292b",
   "metadata": {
    "id": "9fb19f0d"
   },
   "source": [
    "---\n",
    "\n",
    "### Exercise 33:\n",
    "Assign a dictionary with keys `name` and `age` to a variable `person`.\n",
    "\n",
    "```python\n",
    "# Exercise 33\n",
    "```"
   ]
  },
  {
   "cell_type": "code",
   "execution_count": 66,
   "id": "3f3aa885",
   "metadata": {
    "id": "9fb19f0d"
   },
   "outputs": [
    {
     "name": "stdout",
     "output_type": "stream",
     "text": [
      "{'name': 'Alice', 'age': 25}\n"
     ]
    }
   ],
   "source": [
    "person = {\"name\": \"Alice\", \"age\": 25}\n",
    "print(person)\n"
   ]
  },
  {
   "cell_type": "markdown",
   "id": "d1a0c269",
   "metadata": {
    "id": "9fb19f0d"
   },
   "source": [
    "---\n",
    "\n",
    "### Exercise 34:\n",
    "Use variables to store the sum of two floating-point numbers.\n",
    "\n",
    "```python\n",
    "# Exercise 34\n",
    "```"
   ]
  },
  {
   "cell_type": "code",
   "execution_count": 62,
   "id": "b73b3908",
   "metadata": {
    "id": "9fb19f0d"
   },
   "outputs": [
    {
     "name": "stdout",
     "output_type": "stream",
     "text": [
      "Sum: 19.8\n"
     ]
    }
   ],
   "source": [
    "\n",
    "num1 = 12.5\n",
    "num2 = 7.3\n",
    "sum_result = num1 + num2\n",
    "print(\"Sum:\", sum_result)\n"
   ]
  },
  {
   "cell_type": "markdown",
   "id": "93882c51",
   "metadata": {
    "id": "9fb19f0d"
   },
   "source": [
    "---\n",
    "\n",
    "### Exercise 35:\n",
    "Create a variable `is_sunny` and assign it the result of a comparison `10 > 5`.\n",
    "\n",
    "```python\n",
    "# Exercise 35\n",
    "```"
   ]
  },
  {
   "cell_type": "code",
   "execution_count": 64,
   "id": "c37a1786",
   "metadata": {
    "id": "9fb19f0d"
   },
   "outputs": [
    {
     "name": "stdout",
     "output_type": "stream",
     "text": [
      "True\n",
      "<class 'bool'>\n"
     ]
    }
   ],
   "source": [
    "is_sunny = 10 > 5\n",
    "print(is_sunny)\n",
    "print(type(is_sunny))"
   ]
  },
  {
   "cell_type": "markdown",
   "id": "01a86185",
   "metadata": {
    "id": "9fb19f0d"
   },
   "source": [
    "---\n",
    "\n",
    "### Exercise 36:\n",
    "Assign a string and an integer to two different variables, then print both on one line.\n",
    "\n",
    "```python\n",
    "# Exercise 36\n",
    "\n",
    "```"
   ]
  },
  {
   "cell_type": "code",
   "execution_count": 65,
   "id": "9f2212ea",
   "metadata": {
    "id": "9fb19f0d"
   },
   "outputs": [
    {
     "name": "stdout",
     "output_type": "stream",
     "text": [
      "Alice 25\n"
     ]
    }
   ],
   "source": [
    "\n",
    "name = \"Alice\"\n",
    "age = 25\n",
    "print(name, age)\n"
   ]
  },
  {
   "cell_type": "markdown",
   "id": "ac71053c",
   "metadata": {
    "id": "9fb19f0d"
   },
   "source": [
    "---\n",
    "\n",
    "### Exercise 37:\n",
    "Reassign a variable that originally held a number to a boolean value.\n",
    "\n",
    "```python\n",
    "# Exercise 37\n",
    "\n",
    "```"
   ]
  },
  {
   "cell_type": "code",
   "execution_count": 67,
   "id": "13e70489",
   "metadata": {
    "id": "9fb19f0d"
   },
   "outputs": [
    {
     "name": "stdout",
     "output_type": "stream",
     "text": [
      "Before: 10 <class 'int'>\n",
      "After: True <class 'bool'>\n"
     ]
    }
   ],
   "source": [
    "\n",
    "value = 10\n",
    "print(\"Before:\", value, type(value))\n",
    "value = True\n",
    "print(\"After:\", value, type(value))\n"
   ]
  },
  {
   "cell_type": "markdown",
   "id": "d0d16061",
   "metadata": {
    "id": "9fb19f0d"
   },
   "source": [
    "---\n",
    "\n",
    "### Exercise 38:\n",
    "Create a variable `is_weekend` and assign it the result of `False`.\n",
    "\n",
    "```python\n",
    "# Exercise 38\n",
    "```"
   ]
  },
  {
   "cell_type": "code",
   "execution_count": 68,
   "id": "a6239b02",
   "metadata": {
    "id": "9fb19f0d"
   },
   "outputs": [
    {
     "name": "stdout",
     "output_type": "stream",
     "text": [
      "False\n"
     ]
    }
   ],
   "source": [
    "is_weekend = False\n",
    "print(is_weekend)"
   ]
  },
  {
   "cell_type": "markdown",
   "id": "4deac5e2",
   "metadata": {
    "id": "9fb19f0d"
   },
   "source": [
    "---\n",
    "\n",
    "### Exercise 39:\n",
    "Assign a multi-line string to a variable `description`.\n",
    "\n",
    "```python\n",
    "# Exercise 39\n",
    "```"
   ]
  },
  {
   "cell_type": "code",
   "execution_count": 70,
   "id": "c386bf46",
   "metadata": {
    "id": "9fb19f0d"
   },
   "outputs": [
    {
     "name": "stdout",
     "output_type": "stream",
     "text": [
      "Python is easy to learn\n"
     ]
    }
   ],
   "source": [
    "description = \"Python is easy to learn\"\n",
    "print(description)"
   ]
  },
  {
   "cell_type": "markdown",
   "id": "6a2f1850",
   "metadata": {
    "id": "9fb19f0d"
   },
   "source": [
    "---\n",
    "\n",
    "### Exercise 40:\n",
    "Use variables to store the result of the absolute value of `-25`.\n",
    "\n",
    "```python\n",
    "# Exercise 40\n",
    "```"
   ]
  },
  {
   "cell_type": "code",
   "execution_count": 71,
   "id": "ea5cb788",
   "metadata": {
    "id": "9fb19f0d"
   },
   "outputs": [
    {
     "name": "stdout",
     "output_type": "stream",
     "text": [
      "Absolute value: 25\n"
     ]
    }
   ],
   "source": [
    "\n",
    "number = -25\n",
    "absolute_value = abs(number)\n",
    "print(\"Absolute value:\", absolute_value)\n"
   ]
  },
  {
   "cell_type": "markdown",
   "id": "b4e1490a",
   "metadata": {
    "id": "9fb19f0d"
   },
   "source": [
    "---\n",
    "\n",
    "### Exercise 41:\n",
    "Assign the result of a floor division `100 // 6` to a variable `floor_div_result`.\n",
    "\n",
    "```python\n",
    "# Exercise 41\n",
    "```"
   ]
  },
  {
   "cell_type": "code",
   "execution_count": 79,
   "id": "dd620f12",
   "metadata": {
    "id": "9fb19f0d"
   },
   "outputs": [
    {
     "name": "stdout",
     "output_type": "stream",
     "text": [
      "Floor division result: 16\n"
     ]
    }
   ],
   "source": [
    "\n",
    "floor_div_result = 100 // 6\n",
    "print(\"Floor division result:\", floor_div_result)\n"
   ]
  },
  {
   "cell_type": "markdown",
   "id": "398afc96",
   "metadata": {
    "id": "9fb19f0d"
   },
   "source": [
    "---\n",
    "\n",
    "### Exercise 42:\n",
    "Assign the result of adding a floating-point number to an integer to a variable `mixed_sum`.\n",
    "\n",
    "```python\n",
    "# Exercise 42\n",
    "```"
   ]
  },
  {
   "cell_type": "code",
   "execution_count": 73,
   "id": "b2e567a1",
   "metadata": {
    "id": "9fb19f0d"
   },
   "outputs": [
    {
     "name": "stdout",
     "output_type": "stream",
     "text": [
      "Sum: 19.5\n"
     ]
    }
   ],
   "source": [
    "\n",
    "num1 = 12.5\n",
    "num2 = 7\n",
    "mixed_sum = num1 + num2\n",
    "print(\"Sum:\", mixed_sum)\n"
   ]
  },
  {
   "cell_type": "markdown",
   "id": "e8f077d9",
   "metadata": {
    "id": "9fb19f0d"
   },
   "source": [
    "---\n",
    "\n",
    "\n",
    "### Exercise 43:\n",
    "Assign a boolean value based on the comparison of two variables `a = 10` and `b = 15`.\n",
    "\n",
    "```python\n",
    "# Exercise 43\n",
    "```"
   ]
  },
  {
   "cell_type": "code",
   "execution_count": 74,
   "id": "f2d81608",
   "metadata": {
    "id": "9fb19f0d"
   },
   "outputs": [
    {
     "name": "stdout",
     "output_type": "stream",
     "text": [
      "Is a greater than b? False\n"
     ]
    }
   ],
   "source": [
    "\n",
    "a = 10\n",
    "b = 15\n",
    "is_a_greater = a > b\n",
    "print(\"Is a greater than b?\", is_a_greater)\n"
   ]
  },
  {
   "cell_type": "markdown",
   "id": "8216a369",
   "metadata": {
    "id": "9fb19f0d"
   },
   "source": [
    "---\n",
    "\n",
    "### Exercise 44:\n",
    "Assign a long sentence to a variable and count its characters using `len()`.\n",
    "\n",
    "```python\n",
    "# Exercise 44\n",
    "```"
   ]
  },
  {
   "cell_type": "code",
   "execution_count": 75,
   "id": "dac06373",
   "metadata": {
    "id": "9fb19f0d"
   },
   "outputs": [
    {
     "name": "stdout",
     "output_type": "stream",
     "text": [
      "Number of characters: 32\n"
     ]
    }
   ],
   "source": [
    "\n",
    "sentence = \"Python is fun and easy to learn.\"\n",
    "num_chars = len(sentence)\n",
    "print(\"Number of characters:\", num_chars)\n",
    "\n"
   ]
  },
  {
   "cell_type": "markdown",
   "id": "f4d852ab",
   "metadata": {
    "id": "9fb19f0d"
   },
   "source": [
    "---\n",
    "\n",
    "### Exercise 45:\n",
    "Assign a fractional result `7 / 3` to a variable `division_result`.\n",
    "\n",
    "```python\n",
    "# Exercise 45\n",
    "```"
   ]
  },
  {
   "cell_type": "code",
   "execution_count": 76,
   "id": "a3496c60",
   "metadata": {
    "id": "9fb19f0d"
   },
   "outputs": [
    {
     "name": "stdout",
     "output_type": "stream",
     "text": [
      "Division result: 2.3333333333333335\n"
     ]
    }
   ],
   "source": [
    "\n",
    "division_result = 7 / 3\n",
    "print(\"Division result:\", division_result)\n"
   ]
  },
  {
   "cell_type": "markdown",
   "id": "66b3033b",
   "metadata": {
    "id": "9fb19f0d"
   },
   "source": [
    "---\n",
    "\n",
    "### Exercise 46:\n",
    "Create a variable `speed` and assign it the value of 100 kilometers per hour.\n",
    "\n",
    "```python\n",
    "# Exercise 46\n",
    "```"
   ]
  },
  {
   "cell_type": "markdown",
   "id": "029e9467",
   "metadata": {
    "id": "9fb19f0d"
   },
   "source": [
    "speed = 100  \n",
    "print(\"Speed:\", speed, \"km/h\")\n"
   ]
  },
  {
   "cell_type": "markdown",
   "id": "0c58de59",
   "metadata": {
    "id": "9fb19f0d"
   },
   "source": [
    "---\n",
    "\n",
    "### Exercise 47:\n",
    "Assign a multi-variable equation like `y = 3x + 5` where `x = 4` to a variable `y`.\n",
    "\n",
    "```python\n",
    "# Exercise 47\n",
    "```"
   ]
  },
  {
   "cell_type": "code",
   "execution_count": 77,
   "id": "33c51e7c",
   "metadata": {
    "id": "9fb19f0d"
   },
   "outputs": [
    {
     "name": "stdout",
     "output_type": "stream",
     "text": [
      "y = 17\n"
     ]
    }
   ],
   "source": [
    "\n",
    "x = 4\n",
    "y = 3 * x + 5\n",
    "print(\"y =\", y)\n"
   ]
  },
  {
   "cell_type": "markdown",
   "id": "464f63f2",
   "metadata": {
    "id": "9fb19f0d"
   },
   "source": [
    "---\n",
    "\n",
    "### Exercise 48:\n",
    "Use variables to calculate and store the average of three numbers.\n",
    "\n",
    "```python\n",
    "# Exercise 48\n",
    "```"
   ]
  },
  {
   "cell_type": "code",
   "execution_count": 78,
   "id": "88376129",
   "metadata": {
    "id": "9fb19f0d"
   },
   "outputs": [
    {
     "name": "stdout",
     "output_type": "stream",
     "text": [
      "Average: 20.0\n"
     ]
    }
   ],
   "source": [
    "\n",
    "num1 = 10\n",
    "num2 = 20\n",
    "num3 = 30\n",
    "average = (num1 + num2 + num3) / 3\n",
    "print(\"Average:\", average)\n"
   ]
  },
  {
   "cell_type": "markdown",
   "id": "ec8c1bfa",
   "metadata": {},
   "source": [
    "Solutions"
   ]
  }
 ],
 "metadata": {
  "colab": {
   "provenance": []
  },
  "kernelspec": {
   "display_name": "Python 3",
   "language": "python",
   "name": "python3"
  },
  "language_info": {
   "codemirror_mode": {
    "name": "ipython",
    "version": 3
   },
   "file_extension": ".py",
   "mimetype": "text/x-python",
   "name": "python",
   "nbconvert_exporter": "python",
   "pygments_lexer": "ipython3",
   "version": "3.9.11"
  }
 },
 "nbformat": 4,
 "nbformat_minor": 5
}
